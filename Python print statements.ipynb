{
 "cells": [
  {
   "cell_type": "markdown",
   "id": "74447382-0ed6-4e0f-840d-719f23933e1d",
   "metadata": {},
   "source": [
    "## Using a Simple Print Statement"
   ]
  },
  {
   "cell_type": "code",
   "execution_count": 1,
   "id": "53f0b83e-251d-47f1-bd56-4703ad65b9f2",
   "metadata": {},
   "outputs": [
    {
     "name": "stdout",
     "output_type": "stream",
     "text": [
      "My name is Mohit Rohilla\n"
     ]
    }
   ],
   "source": [
    "print(\"My name is Mohit Rohilla\")"
   ]
  },
  {
   "cell_type": "markdown",
   "id": "1a3eb7ee-8e44-4ba7-8430-0aca8b71df3a",
   "metadata": {},
   "source": [
    "## Using String Formatting"
   ]
  },
  {
   "cell_type": "code",
   "execution_count": 2,
   "id": "134c4f08-53ee-43ab-9190-e4511b28c8e3",
   "metadata": {},
   "outputs": [
    {
     "name": "stdout",
     "output_type": "stream",
     "text": [
      "My name is Mohit Rohilla\n"
     ]
    }
   ],
   "source": [
    "name = \"Mohit Rohilla\"\n",
    "print(\"My name is {}\".format(name))"
   ]
  },
  {
   "cell_type": "markdown",
   "id": "59762291-8701-4ae1-a18f-5817296aa6d9",
   "metadata": {},
   "source": [
    "## Using f-String (Formatted String Literal)"
   ]
  },
  {
   "cell_type": "code",
   "execution_count": 3,
   "id": "0f667e53-c5b3-4774-9b9b-7bd09e46e134",
   "metadata": {},
   "outputs": [
    {
     "name": "stdout",
     "output_type": "stream",
     "text": [
      "My name is Mohit Rohilla\n"
     ]
    }
   ],
   "source": [
    "name = \"Mohit Rohilla\"\n",
    "print(f\"My name is {name}\")"
   ]
  },
  {
   "cell_type": "markdown",
   "id": "82ee85f3-9783-4643-a4ae-8acdbe026a94",
   "metadata": {},
   "source": [
    "## Concatenating Strings"
   ]
  },
  {
   "cell_type": "code",
   "execution_count": 4,
   "id": "f612b737-9cda-4d88-91d1-101ea3fe307f",
   "metadata": {},
   "outputs": [
    {
     "name": "stdout",
     "output_type": "stream",
     "text": [
      "My name is\n",
      "Mohit Rohilla\n"
     ]
    }
   ],
   "source": [
    "print(\"My name is\")\n",
    "print(\"Mohit Rohilla\")"
   ]
  },
  {
   "cell_type": "markdown",
   "id": "cdfb1702-583a-4890-bc0e-a02babb568c3",
   "metadata": {},
   "source": [
    "### These are various methods to perform same activity in python. Choose the one you feel comfortable in the most."
   ]
  },
  {
   "cell_type": "markdown",
   "id": "65e83da5-9cdd-405f-bfba-428c84f002fb",
   "metadata": {},
   "source": [
    "### Thanks for reaching here..."
   ]
  }
 ],
 "metadata": {
  "kernelspec": {
   "display_name": "Python 3 (ipykernel)",
   "language": "python",
   "name": "python3"
  },
  "language_info": {
   "codemirror_mode": {
    "name": "ipython",
    "version": 3
   },
   "file_extension": ".py",
   "mimetype": "text/x-python",
   "name": "python",
   "nbconvert_exporter": "python",
   "pygments_lexer": "ipython3",
   "version": "3.12.0"
  }
 },
 "nbformat": 4,
 "nbformat_minor": 5
}
